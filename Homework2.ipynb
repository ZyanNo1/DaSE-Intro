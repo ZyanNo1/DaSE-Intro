{
 "cells": [
  {
   "cell_type": "markdown",
   "metadata": {},
   "source": [
    "## 1. 编写 Python 程序，求两个正整数的最大公约数。"
   ]
  },
  {
   "cell_type": "code",
   "execution_count": 8,
   "metadata": {},
   "outputs": [
    {
     "name": "stdin",
     "output_type": "stream",
     "text": [
      "请输入第一个数 12\n",
      "请输入第二个数 6\n"
     ]
    },
    {
     "name": "stdout",
     "output_type": "stream",
     "text": [
      "两数的最大公约数是 6\n"
     ]
    }
   ],
   "source": [
    "x = int(input(\"请输入第一个数\"))\n",
    "y = int(input(\"请输入第二个数\"))\n",
    "if (x<y):\n",
    "    x,y=y,x\n",
    "    \n",
    "while (y!=0): #辗转相除法\n",
    "    x,y=y,x%y\n",
    "print(\"两数的最大公约数是\",x)"
   ]
  },
  {
   "cell_type": "markdown",
   "metadata": {},
   "source": [
    "## 2. 用if语句实现百分制转等级制（考试成绩，60分以下不合格，60—74分合格，75—89分为良好，90分以上为优秀）。"
   ]
  },
  {
   "cell_type": "code",
   "execution_count": 9,
   "metadata": {},
   "outputs": [
    {
     "name": "stdin",
     "output_type": "stream",
     "text": [
      "请输入分数： 91\n"
     ]
    },
    {
     "name": "stdout",
     "output_type": "stream",
     "text": [
      "优秀\n"
     ]
    }
   ],
   "source": [
    "x = int(input(\"请输入分数：\"))\n",
    "if(x<60):\n",
    "    print(\"不合格\")\n",
    "else:\n",
    "    if(x<=74):\n",
    "        print(\"合格\")\n",
    "    else:\n",
    "        if(x<=89):\n",
    "            print(\"良好\")\n",
    "        else:\n",
    "            print(\"优秀\")"
   ]
  },
  {
   "cell_type": "markdown",
   "metadata": {},
   "source": [
    "## 3. 编写Python程序，完成十到二进制小数的转换\n",
    "相关数学原理：https://cloud.tencent.com/developer/article/2155741"
   ]
  },
  {
   "cell_type": "code",
   "execution_count": 24,
   "metadata": {},
   "outputs": [
    {
     "name": "stdin",
     "output_type": "stream",
     "text": [
      "请输入十进制小数 0.5\n"
     ]
    },
    {
     "name": "stdout",
     "output_type": "stream",
     "text": [
      "二进制：0.1"
     ]
    }
   ],
   "source": [
    "x=float(input(\"请输入十进制小数\"))\n",
    "print(\"二进制：0.\",end=\"\")\n",
    "while(x!=1.0):\n",
    "    x=x*2\n",
    "    if(x>1.0):\n",
    "        y=1\n",
    "        x=x-1\n",
    "    else:\n",
    "        if (x==1.0):\n",
    "            y=1\n",
    "        else:\n",
    "            y=0\n",
    "    print(y,end=\"\")"
   ]
  },
  {
   "cell_type": "markdown",
   "metadata": {},
   "source": [
    "## 4. 编写Python程序，产生10-20的随机浮点数"
   ]
  },
  {
   "cell_type": "code",
   "execution_count": 28,
   "metadata": {},
   "outputs": [
    {
     "name": "stdout",
     "output_type": "stream",
     "text": [
      "16.273109055136395\n"
     ]
    }
   ],
   "source": [
    "import random\n",
    "print (int(random.uniform(10,20)))"
   ]
  },
  {
   "cell_type": "markdown",
   "metadata": {},
   "source": [
    "## 5. 编写一个Python函数，判断一个整数是否是回文数。回文数是指正序（从左向右）和倒序（从右向左）读都是一样的数。"
   ]
  },
  {
   "cell_type": "code",
   "execution_count": 30,
   "metadata": {},
   "outputs": [
    {
     "name": "stdin",
     "output_type": "stream",
     "text": [
      "输入一个整数 -12321\n"
     ]
    },
    {
     "name": "stdout",
     "output_type": "stream",
     "text": [
      "False\n"
     ]
    }
   ],
   "source": [
    "x=input(\"输入一个整数\")\n",
    "def huiwen(x):\n",
    "    x=str(x)\n",
    "    return (x==x[::-1])"
   ]
  },
  {
   "cell_type": "markdown",
   "metadata": {},
   "source": [
    "## 6.编写一个Python函数，返回一个包含斐波那契数列的前N个数的列表。斐波那契数列是一个数列，其中每个数是前两个数的和，数列以0和1开始。"
   ]
  },
  {
   "cell_type": "code",
   "execution_count": 48,
   "metadata": {},
   "outputs": [
    {
     "name": "stdin",
     "output_type": "stream",
     "text": [
      "请输入n： 6\n"
     ]
    },
    {
     "name": "stdout",
     "output_type": "stream",
     "text": [
      "[0, 1, 1, 2, 3, 5]\n"
     ]
    }
   ],
   "source": [
    "n=int(input(\"请输入n：\"))\n",
    "\n",
    "def fibo(n):\n",
    "    a=0\n",
    "    b=1\n",
    "    i=0\n",
    "    re=[]\n",
    "    if n==1:\n",
    "        re.append(a)\n",
    "    else:\n",
    "        while i < n:\n",
    "            re.append(a)\n",
    "            a,b=b,a+b\n",
    "            i=i+1\n",
    "    return re\n",
    "print(fibo(n))"
   ]
  },
  {
   "cell_type": "markdown",
   "metadata": {},
   "source": [
    "## 7.编写一个Python函数，接受一个整数数组作为输入，返回数组中第二大的数。如果数组中只有一个元素或数组为空，则返回-1。"
   ]
  },
  {
   "cell_type": "code",
   "execution_count": 49,
   "metadata": {},
   "outputs": [
    {
     "name": "stdin",
     "output_type": "stream",
     "text": [
      "请输入数组 以空格分隔:  45\n"
     ]
    },
    {
     "name": "stdout",
     "output_type": "stream",
     "text": [
      "-1\n"
     ]
    }
   ],
   "source": [
    "x= input(\"请输入数组 以空格分隔: \")\n",
    "\n",
    "def Largest2nd(x):\n",
    "    a= list(map(int, x.split()))\n",
    "    if (len(a)<=1):\n",
    "        return -1\n",
    "    else:\n",
    "        f=s= -100000000\n",
    "        for num in a:\n",
    "            if num> f:\n",
    "                s=f\n",
    "                f=num\n",
    "            elif f>num>s:\n",
    "                s=num\n",
    "        return s\n",
    "print(Largest2nd(x))"
   ]
  },
  {
   "cell_type": "markdown",
   "metadata": {},
   "source": [
    "## 8. 编写一个函数，使其能够用正则表达式的方式简单验证身份证号是否合法。\n",
    "\n",
    "validate_id_card函数使用正则表达式模式来匹配身份证号。模式通过以下方式验证身份证号的格式：\n",
    "\n",
    "- 第一位必须是1-9的数字，不以0开头。\n",
    "- 接下来6位是地区码。\n",
    "- 紧接着8位是出生年份和月份。\n",
    "- 接下来2位是出生日。\n",
    "- 然后是3位顺序码（通常是随机数字）。\n",
    "- 最后一位可以是数字或大写字母X。"
   ]
  },
  {
   "cell_type": "code",
   "execution_count": 3,
   "metadata": {},
   "outputs": [
    {
     "name": "stdin",
     "output_type": "stream",
     "text": [
      "请输入身份证号： 310115200504100211\n"
     ]
    },
    {
     "name": "stdout",
     "output_type": "stream",
     "text": [
      "True\n"
     ]
    }
   ],
   "source": [
    "import re\n",
    "x=input(\"请输入身份证号：\")\n",
    "\n",
    "def validate_id_card(x): \n",
    "    if re.match(r\"^[1-9]\\d{5}(19|20)\\d{2}(0[1-9]|1[0-2])(0[1-9]|[12]\\d|3[01])\\d{3}(\\d|X)$\", x):\n",
    "        return True\n",
    "    else:\n",
    "        return False\n",
    "print(validate_id_card(x))\n",
    "    \n",
    "    "
   ]
  },
  {
   "cell_type": "markdown",
   "metadata": {},
   "source": [
    "\n",
    "1. `^`：表示匹配字符串的开头，确保正则表达式从字符串的开头开始匹配。\n",
    "\n",
    "2. `[1-9]`：表示第一位是数字，但不包括0。这是因为身份证号的第一位通常不是0。\n",
    "\n",
    "3. `\\d{5}`：表示接下来的5位是数字（0-9），共计6位，这部分用来表示地区编码。\n",
    "\n",
    "4. `(19|20)`：这是一个分组，用于匹配年份的前两位。身份证号通常使用19或20作为年份的前两位。\n",
    "\n",
    "5. `\\d{2}`：表示匹配年份的后两位，共计2位。\n",
    "\n",
    "6. `(0[1-9]|1[0-2])`：这是一个分组，用于匹配月份。月份的范围是01到12。这一部分可以匹配01到09月以及10到12月。\n",
    "\n",
    "7. `(0[1-9]|[1-2]\\d|3[0-1])`：这是一个分组，用于匹配日期。它可以匹配01到09日，10到29日，以及30到31日。\n",
    "\n",
    "8. `\\d{3}`：表示匹配身份证号中的顺序码，通常是3位数字。\n",
    "\n",
    "9. `(\\d|X|x)`：这是最后一部分，用于匹配身份证号的校验码。它可以是数字（0-9）或字母X（可以是大写或小写）。\n",
    "\n",
    "10. `$`：表示匹配字符串的结尾，确保正则表达式匹配到字符串的末尾。\n"
   ]
  },
  {
   "cell_type": "markdown",
   "metadata": {},
   "source": [
    "以下是一些常见的正则表达式模式：\n",
    "\n",
    "1. **普通字符：** 普通字符（例如字母、数字、标点符号等）表示它们自身。在示例中，`\"apple\"` 就是一个普通字符。\n",
    "\n",
    "2. **特殊字符：** 正则表达式中有一些特殊字符，如 `.`、`*`、`+`、`?` 等，它们具有特殊的含义。例如，`\".\"` 表示匹配任何字符，`\"*\"` 表示匹配前一个字符的零个或多个重复，`\"+\"` 表示匹配前一个字符的一个或多个重复，`\"?\"` 表示匹配前一个字符的零个或一个重复。这些特殊字符需要进行转义，如 `\\.`、`\\*`、`\\+`、`\\?` 来匹配它们自身。\n",
    "\n",
    "3. **字符类：** 使用 `[...]` 表示一个字符类，可以匹配括号内的任何一个字符。例如，`[abc]` 匹配字符 'a'、'b' 或 'c' 中的任何一个。\n",
    "\n",
    "4. **范围字符类：** 使用 `[a-z]` 表示匹配小写字母 'a' 到 'z' 中的任何一个字符。类似地，`[0-9]` 表示匹配数字 0 到 9 中的任何一个字符。\n",
    "\n",
    "5. **反向字符类：** 使用 `[^...]` 表示一个反向字符类，可以匹配不在括号内的任何字符。例如，`[^0-9]` 匹配任何非数字字符。\n",
    "\n",
    "6. **预定义字符类：** 正则表达式还提供了一些预定义的字符类，如 `\\d` 表示任何数字字符，`\\w` 表示任何字母、数字或下划线字符，`\\s` 表示任何空白字符。相应的大写形式 `\\D`、`\\W`、`\\S` 表示它们的补集。\n",
    "\n",
    "7. **边界匹配：** `^` 表示匹配字符串的开头，`$` 表示匹配字符串的结尾。例如，`\"^apple\"` 匹配以 \"apple\" 开头的字符串。\n",
    "\n",
    "8. **重复：** 使用 `{m}` 表示前一个模式必须重复 m 次，使用 `{m, n}` 表示前一个模式必须重复至少 m 次，至多 n 次。例如，`\"a{2,4}\"` 匹配 \"aa\"、\"aaa\" 或 \"aaaa\"。\n",
    "\n",
    "9. **逻辑操作：** 正则表达式支持逻辑操作，如 `|` 表示或操作。例如，`\"apple|banana\"` 匹配 \"apple\" 或 \"banana\"。\n",
    "\n",
    "10. **分组：** 使用 `()` 创建分组，可以对模式进行分组和捕获。例如，`\"(apple|banana)\"` 匹配 \"apple\" 或 \"banana\"，并且可以通过捕获组来访问匹配的内容。\n",
    "\n",
    "在示例中，`pattern` 的形式是一个普通字符串 `\"apple\"`，它将匹配目标字符串的开头，只有当目标字符串以 \"apple\" 开头时才会找到匹配。"
   ]
  }
 ],
 "metadata": {
  "kernelspec": {
   "display_name": "Python 3 (ipykernel)",
   "language": "python",
   "name": "python3"
  },
  "language_info": {
   "codemirror_mode": {
    "name": "ipython",
    "version": 3
   },
   "file_extension": ".py",
   "mimetype": "text/x-python",
   "name": "python",
   "nbconvert_exporter": "python",
   "pygments_lexer": "ipython3",
   "version": "3.11.5"
  }
 },
 "nbformat": 4,
 "nbformat_minor": 4
}
