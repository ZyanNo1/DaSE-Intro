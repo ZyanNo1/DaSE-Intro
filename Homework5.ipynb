{
 "cells": [
  {
   "cell_type": "markdown",
   "metadata": {},
   "source": [
    "0. 所有的题目结果中，给出SQL语句和执行结果。"
   ]
  },
  {
   "cell_type": "markdown",
   "metadata": {},
   "source": [
    "1. 在新数据库中新建一张 user 表,插入几条数据,属性包含:唯一标识(id),姓名(name)性别(sex).年龄(age).联系方式(phone)，数据如下：\n",
    "\n",
    "    ('John Doe', 'Male', 25, '123-456-7890')\n",
    "\n",
    "    ('Jane Smith', 'Female', 31, '987-654-3210')\n",
    "    \n",
    "    ('Bob Johnson', 'Male', 22, '555-123-4567')"
   ]
  },
  {
   "cell_type": "code",
   "execution_count": 1,
   "metadata": {},
   "outputs": [],
   "source": [
    "import sqlite3 as db\n",
    "conn = db.connect('user_database.db')\n",
    "cursor = conn.cursor()\n",
    "\n",
    "cursor.execute('DELETE FROM user')#防止重复添加\n",
    "conn.commit()\n",
    "\n",
    "cursor.execute('''\n",
    "CREATE TABLE IF NOT EXISTS user (\n",
    "    id INTEGER PRIMARY KEY AUTOINCREMENT, name TEXT, sex TEXT, age INTEGER, phone TEXT)\n",
    "''')\n",
    "\n",
    "cursor.executemany('''\n",
    "INSERT INTO user (name, sex, age, phone) VALUES (?, ?, ?, ?)''', \n",
    "[   ('John Doe', 'Male', 25, '123-456-7890'),\n",
    "    ('Jane Smith', 'Female', 31, '987-654-3210'),\n",
    "    ('Bob Johnson', 'Male', 22, '555-123-4567')\n",
    "])\n",
    "\n",
    "conn.commit()"
   ]
  },
  {
   "cell_type": "markdown",
   "metadata": {},
   "source": [
    "2. 写出 SQL语句,查询 user 表中所有年龄在 20-30 范围内的用户"
   ]
  },
  {
   "cell_type": "code",
   "execution_count": 2,
   "metadata": {},
   "outputs": [
    {
     "name": "stdout",
     "output_type": "stream",
     "text": [
      "   id         name   sex  age         phone\n",
      "0   1     John Doe  Male   25  123-456-7890\n",
      "1   3  Bob Johnson  Male   22  555-123-4567\n"
     ]
    },
    {
     "name": "stderr",
     "output_type": "stream",
     "text": [
      "/usr/local/lib/python3.10/dist-packages/pandas/core/computation/expressions.py:21: UserWarning: Pandas requires version '2.8.4' or newer of 'numexpr' (version '2.8.1' currently installed).\n",
      "  from pandas.core.computation.check import NUMEXPR_INSTALLED\n",
      "/usr/local/lib/python3.10/dist-packages/pandas/core/arrays/masked.py:60: UserWarning: Pandas requires version '1.3.6' or newer of 'bottleneck' (version '1.3.2' currently installed).\n",
      "  from pandas.core import (\n"
     ]
    }
   ],
   "source": [
    "import pandas as pd\n",
    "\n",
    "query = \"SELECT * FROM user WHERE age BETWEEN 20 AND 30\"\n",
    "result = pd.read_sql_query(query, conn)\n",
    "print(result)"
   ]
  },
  {
   "cell_type": "markdown",
   "metadata": {},
   "source": [
    "3. 写出SQL语句，向user表中添加自己的个人信息，并添加几条和你姓名同姓的虚拟信息。"
   ]
  },
  {
   "cell_type": "code",
   "execution_count": 3,
   "metadata": {},
   "outputs": [],
   "source": [
    "cursor.executemany('''\n",
    "INSERT INTO user (name, sex, age, phone) VALUES (?, ?, ?, ?)''',\n",
    " [  ('Zyan Li', 'Male', 19, '123-456-7777'),\n",
    "    ('Zyan Li', 'Male', 24, '987-654-0000'),\n",
    "    ('Zyan Li', 'Male', 22, '555-123-6666')\n",
    "])\n",
    "\n",
    "conn.commit()"
   ]
  },
  {
   "cell_type": "markdown",
   "metadata": {},
   "source": [
    "4. 写出 SQL语句,查询 user 表中年龄在 20-30 范围内,名字包含“你的姓氏”的用户,并按照年龄从大到小排序输出"
   ]
  },
  {
   "cell_type": "code",
   "execution_count": 4,
   "metadata": {},
   "outputs": [
    {
     "name": "stdout",
     "output_type": "stream",
     "text": [
      "   id     name   sex  age         phone\n",
      "0   5  Zyan Li  Male   24  987-654-0000\n",
      "1   6  Zyan Li  Male   22  555-123-6666\n"
     ]
    }
   ],
   "source": [
    "query = \"\"\"SELECT * FROM user WHERE age BETWEEN 20 AND 30 \n",
    "AND name LIKE '%Zyan%' ORDER BY age DESC;\"\"\"\n",
    "result = pd.read_sql_query(query, conn)\n",
    "print(result)\n",
    "\n"
   ]
  },
  {
   "cell_type": "markdown",
   "metadata": {},
   "source": [
    "5. 写出 SQL 语句,计算 user 表中所有用户的平均年龄"
   ]
  },
  {
   "cell_type": "code",
   "execution_count": 5,
   "metadata": {},
   "outputs": [
    {
     "name": "stdout",
     "output_type": "stream",
     "text": [
      "   average_age\n",
      "0    23.833333\n"
     ]
    }
   ],
   "source": [
    "query = 'SELECT AVG(age) AS average_age FROM user'\n",
    "cursor.execute(query)\n",
    "result = pd.read_sql_query(query, conn)\n",
    "print(result)\n"
   ]
  },
  {
   "cell_type": "markdown",
   "metadata": {},
   "source": [
    "6. 新建两张表team 表(id,teamName)和score 表(id,teamid,userid,score)。其中score 表中的 teamid 为指向 team表id 的外键，userid 为指向 user表id的外键"
   ]
  },
  {
   "cell_type": "code",
   "execution_count": 6,
   "metadata": {},
   "outputs": [],
   "source": [
    "cursor.execute('DELETE FROM team')#防止重复添加\n",
    "cursor.execute('DELETE FROM score')\n",
    "cursor.execute('DELETE FROM sqlite_sequence WHERE name=\"team\"')\n",
    "cursor.execute('DELETE FROM sqlite_sequence WHERE name=\"score\"')\n",
    "conn.commit()\n",
    "\n",
    "cursor.execute('''\n",
    "CREATE TABLE IF NOT EXISTS team (\n",
    "    id INTEGER PRIMARY KEY AUTOINCREMENT,\n",
    "    teamName TEXT\n",
    ")\n",
    " \n",
    "''')\n",
    "cursor.execute('''\n",
    "CREATE TABLE IF NOT EXISTS score (\n",
    "    id INTEGER PRIMARY KEY AUTOINCREMENT,\n",
    "    teamid INTEGER,\n",
    "    userid INTEGER,\n",
    "    score INTEGER,\n",
    "    FOREIGN KEY (teamid) REFERENCES team(id),\n",
    "    FOREIGN KEY (userid) REFERENCES user(id))\n",
    "''')\n",
    "\n",
    "conn.commit()"
   ]
  },
  {
   "cell_type": "markdown",
   "metadata": {},
   "source": [
    "7. 在team表中和score表中插入合适的记录，写出 SQL语句,查询 teamName 为“ECNU”的队伍中，年龄小于 20 的用户们，结果不得为空。"
   ]
  },
  {
   "cell_type": "code",
   "execution_count": 7,
   "metadata": {},
   "outputs": [
    {
     "name": "stdout",
     "output_type": "stream",
     "text": [
      "      name   sex  age         phone\n",
      "0  Zyan Li  Male   19  123-456-7777\n"
     ]
    }
   ],
   "source": [
    "\n",
    "\n",
    "cursor.execute('''INSERT INTO team (teamName) VALUES ('ECNU')''')\n",
    "cursor.execute('''INSERT INTO team (teamName) VALUES ('SJTU')''')\n",
    "cursor.executemany('''\n",
    "INSERT INTO score (teamid, userid, score) VALUES (?, ?, ?)''',\n",
    " [(1, 4, 100),(1, 1, 50)])\n",
    "\n",
    "conn.commit()\n",
    "\n",
    "query = \"\"\"\n",
    "SELECT u.name, u.sex, u.age, u.phone \n",
    "FROM user u\n",
    "JOIN score s ON u.id = s.userid\n",
    "JOIN team t ON s.teamid = t.id\n",
    "WHERE t.teamName = 'ECNU' AND u.age < 20;\n",
    "\"\"\"\n",
    "result = pd.read_sql_query(query, conn)\n",
    "print(result)"
   ]
  },
  {
   "cell_type": "markdown",
   "metadata": {},
   "source": [
    "8. 写出 SQL 语句,计算 teamName为“ECNU”的总分(假设 score 存在 null值,nul值默认为 0 加入计算)。"
   ]
  },
  {
   "cell_type": "code",
   "execution_count": 8,
   "metadata": {},
   "outputs": [
    {
     "name": "stdout",
     "output_type": "stream",
     "text": [
      "  teamName  total_score\n",
      "0     ECNU          150\n"
     ]
    }
   ],
   "source": [
    "query = \"\"\"\n",
    "SELECT t.teamName, IFNULL(SUM(s.score), 0) AS total_score\n",
    "FROM team t\n",
    "JOIN score s ON t.id = s.teamid\n",
    "WHERE t.teamName = 'ECNU';\n",
    "\"\"\"\n",
    "result = pd.read_sql_query(query, conn)\n",
    "print(result)"
   ]
  },
  {
   "cell_type": "markdown",
   "metadata": {},
   "source": [
    "9. 写出SQL语句，删除user表中个人信息的记录。"
   ]
  },
  {
   "cell_type": "code",
   "execution_count": 9,
   "metadata": {},
   "outputs": [],
   "source": [
    "cursor.execute('DELETE FROM user')\n",
    "conn.commit()"
   ]
  }
 ],
 "metadata": {
  "kernelspec": {
   "display_name": "Python 3",
   "language": "python",
   "name": "python3"
  },
  "language_info": {
   "codemirror_mode": {
    "name": "ipython",
    "version": 3
   },
   "file_extension": ".py",
   "mimetype": "text/x-python",
   "name": "python",
   "nbconvert_exporter": "python",
   "pygments_lexer": "ipython3",
   "version": "3.10.12"
  }
 },
 "nbformat": 4,
 "nbformat_minor": 2
}
