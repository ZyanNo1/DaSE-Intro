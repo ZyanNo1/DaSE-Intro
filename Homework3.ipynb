{
 "cells": [
  {
   "cell_type": "markdown",
   "metadata": {},
   "source": [
    "1.编写 Python程序,判断输入a是否为质数"
   ]
  },
  {
   "cell_type": "code",
   "execution_count": 13,
   "metadata": {},
   "outputs": [
    {
     "name": "stdin",
     "output_type": "stream",
     "text": [
      "请输入a: 15\n"
     ]
    },
    {
     "name": "stdout",
     "output_type": "stream",
     "text": [
      "a不是质数\n"
     ]
    }
   ],
   "source": [
    "a=int(input(\"请输入a:\"))\n",
    "flag=1\n",
    "if (a<=1):\n",
    "    flag=0\n",
    "else:\n",
    "    for i in range(2,a):\n",
    "        if ((a%i)==0):\n",
    "            flag=0\n",
    "            break\n",
    "if (flag):\n",
    "    print(\"a是质数\")\n",
    "else:\n",
    "    print(\"a不是质数\")"
   ]
  },
  {
   "cell_type": "markdown",
   "metadata": {},
   "source": [
    "2.用Python实现插入排序该算法，不允许直接调用插入排序函数，需要手动实现其逻辑过程。"
   ]
  },
  {
   "cell_type": "code",
   "execution_count": 25,
   "metadata": {},
   "outputs": [
    {
     "name": "stdin",
     "output_type": "stream",
     "text": [
      "请输入数列，以空格隔开:  45 23 12 1\n"
     ]
    },
    {
     "name": "stdout",
     "output_type": "stream",
     "text": [
      "[1, 12, 23, 45]\n"
     ]
    }
   ],
   "source": [
    "#结果为升序\n",
    "inp = input(\"请输入数列，以空格隔开: \")\n",
    "array = inp.split()\n",
    "a = [int(i) for i in array]\n",
    "\n",
    "for i in range(1, len(a)):\n",
    "    temp = a[i]\n",
    "    j = i - 1\n",
    "    while j >= 0 and temp < a[j]:\n",
    "        a[j + 1] = a[j]\n",
    "        j -= 1\n",
    "    a[j + 1] = temp\n",
    "print(a)"
   ]
  },
  {
   "cell_type": "markdown",
   "metadata": {},
   "source": [
    "3.用Python实现选择排序该算法，不允许直接调用插入排序函数，需要手动实现其逻辑过程。"
   ]
  },
  {
   "cell_type": "code",
   "execution_count": 28,
   "metadata": {},
   "outputs": [
    {
     "name": "stdin",
     "output_type": "stream",
     "text": [
      "请输入数列，以空格隔开:   45 23 12 1\n"
     ]
    },
    {
     "name": "stdout",
     "output_type": "stream",
     "text": [
      "[1, 12, 23, 45]\n"
     ]
    }
   ],
   "source": [
    "#结果为升序\n",
    "inp = input(\"请输入数列，以空格隔开: \")\n",
    "array = inp.split()\n",
    "a = [int(i) for i in array]\n",
    "\n",
    "for i in range(0,len(a)):\n",
    "    min=i\n",
    "    for j in range(i+1,len(a)):\n",
    "        if a[j]<a[min]:\n",
    "            min=j\n",
    "    a[i],a[min]=a[min],a[i]\n",
    "print(a)"
   ]
  },
  {
   "cell_type": "markdown",
   "metadata": {},
   "source": [
    "4.用Python实现快速排序该算法，不允许直接调用插入排序函数，需要手动实现其逻辑过程。"
   ]
  },
  {
   "cell_type": "code",
   "execution_count": 29,
   "metadata": {},
   "outputs": [
    {
     "name": "stdin",
     "output_type": "stream",
     "text": [
      "请输入数列，以空格隔开:  43 23 12 2\n"
     ]
    },
    {
     "name": "stdout",
     "output_type": "stream",
     "text": [
      "[2, 12, 23, 43]\n"
     ]
    }
   ],
   "source": [
    "#结果为升序\n",
    "inp = input(\"请输入数列，以空格隔开: \")\n",
    "array = inp.split()\n",
    "a = [int(i) for i in array]\n",
    "\n",
    "def partition(a,l,r):\n",
    "    p=a[r]\n",
    "    i=l-1\n",
    "    for j in range(l,r):\n",
    "        if a[j]<=p:\n",
    "            i+=1\n",
    "            a[i],a[j]=a[j],a[i]\n",
    "    a[i+1],a[r]=a[r],a[i+1]\n",
    "    return i+1\n",
    "def quickSort(a,l,r):\n",
    "    if l<r:\n",
    "        p= partition(a,l,r)\n",
    "        quickSort(a,l,p-1)\n",
    "        quickSort(a,p+1,r)\n",
    "\n",
    "quickSort(a,0,len(a)-1)\n",
    "print(a)\n"
   ]
  },
  {
   "cell_type": "markdown",
   "metadata": {},
   "source": [
    "5.使用 Python 随机生成三组长度递增的随机数列，长度分别为100、1000、10000，对生成的随机数组使用不同的排序算法，例如选择排序和归并排序，至少三种排序方法。对这些数列的数据排序，并分析不同排序算法在不同长度数列下的运行效果，例如运行时间等指标。"
   ]
  },
  {
   "cell_type": "code",
   "execution_count": 40,
   "metadata": {
    "scrolled": true
   },
   "outputs": [
    {
     "name": "stdout",
     "output_type": "stream",
     "text": [
      "快速排序处理100个数的时间是：0.13279999984661117ms\n",
      "快速排序处理1000个数的时间是：1.1770999990403652ms\n",
      "快速排序处理10000个数的时间是：16.644200004520826ms\n",
      "插入排序处理100个数的时间是：0.06779999966965988ms\n",
      "插入排序处理1000个数的时间是：0.18950000230688602ms\n",
      "插入排序处理10000个数的时间是：1.4452999967033975ms\n",
      "选择排序处理100个数的时间是：0.26590000197757035ms\n",
      "选择排序处理1000个数的时间是：31.205300001602154ms\n",
      "选择排序处理10000个数的时间是：2404.840899995179ms\n"
     ]
    }
   ],
   "source": [
    "import random\n",
    "import time\n",
    "\n",
    "def generate(length, lower_bound, upper_bound):\n",
    "    random_array = [random.randint(lower_bound, upper_bound) for _ in range(length)]\n",
    "    return random_array\n",
    "    \n",
    "a1=a2=a3=generate(100,0,1000)\n",
    "b1=b2=b3=generate(1000,0,10000)\n",
    "c1=c2=c3=generate(10000,0,100000)\n",
    "\n",
    "def partition(a,l,r):\n",
    "    p=a[r]\n",
    "    i=l-1\n",
    "    for j in range(l,r):\n",
    "        if a[j]<=p:\n",
    "            i+=1\n",
    "            a[i],a[j]=a[j],a[i]\n",
    "    a[i+1],a[r]=a[r],a[i+1]\n",
    "    return i+1\n",
    "def quickSort(a,l,r):\n",
    "    if l<r:\n",
    "        p= partition(a,l,r)\n",
    "        quickSort(a,l,p-1)\n",
    "        quickSort(a,p+1,r)\n",
    "\n",
    "def insertSort(a):\n",
    "    for i in range(1, len(a)):\n",
    "        temp = a[i]\n",
    "        j = i - 1\n",
    "        while j >= 0 and temp < a[j]:\n",
    "            a[j + 1] = a[j]\n",
    "            j -= 1\n",
    "        a[j + 1] = temp\n",
    "    return a\n",
    "\n",
    "def selectSort(a):\n",
    "    for i in range(0,len(a)):\n",
    "        min=i\n",
    "        for j in range(i+1,len(a)):\n",
    "            if a[j]<a[min]:\n",
    "                min=j\n",
    "        a[i],a[min]=a[min],a[i]\n",
    "    return a\n",
    "\n",
    "start= time.perf_counter()\n",
    "quickSort(a1,0,99)\n",
    "end =time.perf_counter()\n",
    "print(\"快速排序处理100个数的时间是：\"+str((end-start)*1000)+\"ms\")\n",
    "\n",
    "start= time.perf_counter()\n",
    "quickSort(b1,0,999)\n",
    "end =time.perf_counter()\n",
    "print(\"快速排序处理1000个数的时间是：\"+str((end-start)*1000)+\"ms\")\n",
    "\n",
    "start= time.perf_counter()\n",
    "quickSort(c1,0,9999)\n",
    "end =time.perf_counter()\n",
    "print(\"快速排序处理10000个数的时间是：\"+str((end-start)*1000)+\"ms\")\n",
    "\n",
    "start= time.perf_counter()\n",
    "insertSort(a2)\n",
    "end =time.perf_counter()\n",
    "print(\"插入排序处理100个数的时间是：\"+str((end-start)*1000)+\"ms\")\n",
    "\n",
    "start= time.perf_counter()\n",
    "insertSort(b2)\n",
    "end =time.perf_counter()\n",
    "print(\"插入排序处理1000个数的时间是：\"+str((end-start)*1000)+\"ms\")\n",
    "\n",
    "start= time.perf_counter()\n",
    "insertSort(c2)\n",
    "end =time.perf_counter()\n",
    "print(\"插入排序处理10000个数的时间是：\"+str((end-start)*1000)+\"ms\")\n",
    "\n",
    "start= time.perf_counter()\n",
    "selectSort(a3)\n",
    "end =time.perf_counter()\n",
    "print(\"选择排序处理100个数的时间是：\"+str((end-start)*1000)+\"ms\")\n",
    "\n",
    "start= time.perf_counter()\n",
    "selectSort(b3)\n",
    "end =time.perf_counter()\n",
    "print(\"选择排序处理1000个数的时间是：\"+str((end-start)*1000)+\"ms\")\n",
    "\n",
    "start= time.perf_counter()\n",
    "selectSort(c3)\n",
    "end =time.perf_counter()\n",
    "print(\"选择排序处理10000个数的时间是：\"+str((end-start)*1000)+\"ms\")"
   ]
  },
  {
   "cell_type": "markdown",
   "metadata": {},
   "source": [
    "在100，1000，10000个数排序时，速度从快到慢的顺序都是插入排序，快排，选择排序；时间随数据量的增长速度由慢到快是插入，快排，选择。\n",
    "这个结果实际上不是很符合理论推导。理论上插入排序和选择排序的平均时间复杂度都是$O(n^2)$,快排的平均时间复杂度是$O(nlogn)$，快排应该是最快且运行时间随数据增长较慢。\n",
    "从之前算法课实验的经验来看，这可能是由于数据量还太少，导致差异还不够明显，使得快排多次调用函数所花的时间对总体影响太大，实验结果不够理想。"
   ]
  },
  {
   "cell_type": "markdown",
   "metadata": {},
   "source": [
    "6.使用python代码获取当前系统时间"
   ]
  },
  {
   "cell_type": "code",
   "execution_count": 26,
   "metadata": {},
   "outputs": [
    {
     "name": "stdout",
     "output_type": "stream",
     "text": [
      "当前系统时间: 2024-10-15 14:51:15.604301\n"
     ]
    }
   ],
   "source": [
    "import datetime\n",
    "\n",
    "current_time = datetime.datetime.now()\n",
    "print(\"当前系统时间:\", current_time)\n"
   ]
  },
  {
   "cell_type": "markdown",
   "metadata": {},
   "source": [
    "7.homework/data文件夹下的stuGrade.csv文件中包含5位同学的学号、语文成绩、数学成绩和英语成绩，请先用记事本打开该文件，查看文件内容，然后编写Python程序，读取该文件，并计算出各科的平均成绩（保留2位小数）。"
   ]
  },
  {
   "cell_type": "code",
   "execution_count": 52,
   "metadata": {},
   "outputs": [
    {
     "name": "stdout",
     "output_type": "stream",
     "text": [
      " chinese 的平均值: 82.60\n",
      " math 的平均值: 81.00\n",
      " english 的平均值: 81.80\n"
     ]
    }
   ],
   "source": [
    "import pandas as pd\n",
    "import numpy as np\n",
    "df = pd.read_csv('stuGrade.csv')\n",
    "\n",
    "df = df.iloc[:, 1:]\n",
    "columns = df.columns\n",
    "a = {col: df[col].values for col in columns}\n",
    "average={col: format(np.mean(a[col]),'.2f') for col in columns}\n",
    "with open('my.txt', 'w') as f:\n",
    "    for col in columns:\n",
    "        f.write(f\"{col} 的平均值: {average[col]}\\n\")\n",
    "        print(f\" {col} 的平均值: {average[col]}\")"
   ]
  },
  {
   "cell_type": "markdown",
   "metadata": {},
   "source": [
    "8.请在第7题的代码继续编写Python程序，将以下内容写入my.txt文件中，一并上传到github中。"
   ]
  }
 ],
 "metadata": {
  "kernelspec": {
   "display_name": "Python 3 (ipykernel)",
   "language": "python",
   "name": "python3"
  },
  "language_info": {
   "codemirror_mode": {
    "name": "ipython",
    "version": 3
   },
   "file_extension": ".py",
   "mimetype": "text/x-python",
   "name": "python",
   "nbconvert_exporter": "python",
   "pygments_lexer": "ipython3",
   "version": "3.11.5"
  }
 },
 "nbformat": 4,
 "nbformat_minor": 4
}
